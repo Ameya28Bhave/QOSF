{
 "cells": [
  {
   "cell_type": "code",
   "execution_count": 1,
   "metadata": {},
   "outputs": [],
   "source": [
    "from qiskit import QuantumCircuit , transpile, Aer, assemble\n",
    "from qiskit.visualization import plot_histogram"
   ]
  },
  {
   "cell_type": "code",
   "execution_count": 2,
   "metadata": {},
   "outputs": [
    {
     "data": {
      "image/png": "[encoded data removed]",
      "text/plain": [
       "<Figure size 621.941x367.889 with 1 Axes>"
      ]
     },
     "execution_count": 2,
     "metadata": {},
     "output_type": "execute_result"
    }
   ],
   "source": [
    "from qiskit.extensions import Initialize\n",
    "from math import sqrt\n",
    "\n",
    "# Prepare the the two Quantum States that we wish to compare\n",
    "state_psi  = [sqrt(0.3),sqrt(0.7)]\n",
    "state_phi = [sqrt(0.6),sqrt(0.4)]\n",
    "\n",
    "# Prepare 3 Qubit Quantum Circuit\n",
    "qc = QuantumCircuit(3,3)\n",
    "\n",
    "# Given list of complex amplitudes for the qubit to be initialised to\n",
    "Initialize_psi = Initialize(state_psi)\n",
    "Initialize_phi = Initialize(state_phi)\n",
    "\n",
    "# Assign the Quanutum State psi to the first Qubit and phi to the second qubit\n",
    "qc.append(Initialize_psi,[0])\n",
    "qc.append(Initialize_phi,[1])\n",
    "\n",
    "# Create an anciliarry Qubit\n",
    "qc.h(2)\n",
    "\n",
    "# Controlled Swap Gate where control is on 2 and targets are 0,1\n",
    "qc.cswap(2,0,1)\n",
    "\n",
    "# Controlled Swap Gate where control is on 2 and targets are 1,0\n",
    "qc.cswap(2,1,0)\n",
    "\n",
    "# Hadamard gate on the ancillary qubit\n",
    "qc.h(2)\n",
    "\n",
    "# Measure the ancillary qubit\n",
    "qc.measure(2,2)\n",
    "\n",
    "qc.draw('mpl')"
   ]
  },
  {
   "cell_type": "code",
   "execution_count": 22,
   "metadata": {},
   "outputs": [
    {
     "name": "stdout",
     "output_type": "stream",
     "text": [
      "[{'100': 1445, '000': 6747}, {'000': 5758, '100': 2434}, {'100': 3135, '000': 5057}, {'100': 3580, '000': 4612}, {'100': 3870, '000': 4322}]\n"
     ]
    }
   ],
   "source": [
    "from qiskit_aer.noise import (NoiseModel, depolarizing_error)\n",
    "from qiskit import Aer\n",
    "import matplotlib.pyplot as plt\n",
    "\n",
    "# Simulate the circuit with varying error rates\n",
    "err_rt = [0.1, 0.2, 0.3, 0.4, 0.5]\n",
    "count_list = []\n",
    "\n",
    "for p in err_rt:\n",
    "    # Define the error rate \n",
    "\n",
    "    # Create a depolarizing error for each gate in the circuit\n",
    "    error_1 = depolarizing_error(p,1)\n",
    "    error_3 = depolarizing_error(p,3)\n",
    "\n",
    "    # Create a noise model and add the error to the gates\n",
    "    noise_model = NoiseModel()\n",
    "    noise_model.add_all_qubit_quantum_error(error_1, ['h'])\n",
    "    noise_model.add_all_qubit_quantum_error(error_3,['cswap'])\n",
    "\n",
    "    simulator = Aer.get_backend('aer_simulator')\n",
    "    transpiled_qc = transpile(qc, simulator)\n",
    "\n",
    "    # Simulate the noisy circuit\n",
    "    noisy_result = simulator.run(transpiled_qc, noise_model=noise_model, shots=8192).result()\n",
    "\n",
    "    # Plot the histogram of measurement results\n",
    "    counts = noisy_result.get_counts()\n",
    "    count_list.append(counts)\n",
    "\n",
    "plot_histogram(count_list)\n",
    "print(count_list)\n"
   ]
  },
  {
   "cell_type": "code",
   "execution_count": null,
   "metadata": {},
   "outputs": [],
   "source": []
  }
 ],
 "metadata": {
  "kernelspec": {
   "display_name": "Quantum_Computing_Project",
   "language": "python",
   "name": "python3"
  },
  "language_info": {
   "codemirror_mode": {
    "name": "ipython",
    "version": 3
   },
   "file_extension": ".py",
   "mimetype": "text/x-python",
   "name": "python",
   "nbconvert_exporter": "python",
   "pygments_lexer": "ipython3",
   "version": "3.9.18"
  }
 },
 "nbformat": 4,
 "nbformat_minor": 2
}
